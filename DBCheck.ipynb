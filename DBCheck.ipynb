{
 "cells": [
  {
   "cell_type": "markdown",
   "source": [
    "# news_words TB 확인"
   ],
   "metadata": {}
  },
  {
   "cell_type": "code",
   "execution_count": 1,
   "source": [
    "import sqlite3\r\n",
    "import pandas as pd\r\n",
    "\r\n",
    "strDate = '20200801'\r\n",
    "endDate = '20210901'\r\n",
    "\r\n",
    "conn = sqlite3.connect('kr_scrapping.db')\r\n",
    "\r\n",
    "c = conn.cursor()\r\n",
    "\r\n",
    "dt_index = pd.date_range(start=strDate, end=endDate, freq='M')\r\n",
    "dt_list = dt_index.strftime(\"%Y%m\").tolist()\r\n",
    "\r\n",
    "for i in dt_list:\r\n",
    "    c.execute(f'''\r\n",
    "            SELECT             \r\n",
    "               news_words\r\n",
    "            FROM news_words\r\n",
    "            WHERE pub_date\r\n",
    "            LIKE '{i}%'\r\n",
    "            ''')\r\n",
    "    a = c.fetchall()\r\n",
    "    # df = pd.DataFrame(a, columns = ['keyword', '20-08', '20-09', '20-10','20-11','20-12','21-01','21-02', '21-03','21-04','21-05','21-06', '21-07'])\r\n",
    "    print(i,':',len(a))\r\n",
    "        \r\n",
    "conn.close()"
   ],
   "outputs": [
    {
     "output_type": "stream",
     "name": "stdout",
     "text": [
      "202008 : 532374\n",
      "202009 : 533562\n",
      "202010 : 520046\n",
      "202011 : 536310\n",
      "202012 : 550331\n",
      "202101 : 521638\n",
      "202102 : 467534\n",
      "202103 : 556283\n",
      "202104 : 542047\n",
      "202105 : 502998\n",
      "202106 : 527741\n",
      "202107 : 526049\n",
      "202108 : 486483\n"
     ]
    }
   ],
   "metadata": {}
  },
  {
   "cell_type": "markdown",
   "source": [
    "# news_dummy TB 확인"
   ],
   "metadata": {}
  },
  {
   "cell_type": "code",
   "execution_count": 2,
   "source": [
    "import sqlite3\r\n",
    "import pandas as pd\r\n",
    "\r\n",
    "strDate = '20200801'\r\n",
    "endDate = '20210901'\r\n",
    "\r\n",
    "conn = sqlite3.connect('kr_scrapping.db')\r\n",
    "c = conn.cursor()\r\n",
    "\r\n",
    "dt_index = pd.date_range(start=strDate, end=endDate, freq='M')\r\n",
    "dt_list = dt_index.strftime(\"%Y. %m.\").tolist()\r\n",
    "\r\n",
    "for i in dt_list:\r\n",
    "    c.execute(f'''\r\n",
    "            SELECT \r\n",
    "               news_content\r\n",
    "            FROM news_dummy\r\n",
    "            WHERE pubdate\r\n",
    "            LIKE '{i}%'\r\n",
    "            ''')\r\n",
    "    a = c.fetchall()\r\n",
    "    print(i,':',len(a))\r\n",
    "        \r\n",
    "conn.close()"
   ],
   "outputs": [
    {
     "output_type": "stream",
     "name": "stdout",
     "text": [
      "2020. 08. : 532374\n",
      "2020. 09. : 533562\n",
      "2020. 10. : 520046\n",
      "2020. 11. : 536310\n",
      "2020. 12. : 550331\n",
      "2021. 01. : 521638\n",
      "2021. 02. : 467534\n",
      "2021. 03. : 556283\n",
      "2021. 04. : 542045\n",
      "2021. 05. : 502998\n",
      "2021. 06. : 527741\n",
      "2021. 07. : 526049\n",
      "2021. 08. : 486483\n"
     ]
    }
   ],
   "metadata": {}
  }
 ],
 "metadata": {
  "orig_nbformat": 4,
  "language_info": {
   "name": "python",
   "version": "3.6.4",
   "mimetype": "text/x-python",
   "codemirror_mode": {
    "name": "ipython",
    "version": 3
   },
   "pygments_lexer": "ipython3",
   "nbconvert_exporter": "python",
   "file_extension": ".py"
  },
  "kernelspec": {
   "name": "python3",
   "display_name": "Python 3.6.4 64-bit"
  },
  "interpreter": {
   "hash": "68435f9a382c9677d2dcae99d2d139da3415a3d063b38295be49e8c3f2ac11d7"
  }
 },
 "nbformat": 4,
 "nbformat_minor": 2
}
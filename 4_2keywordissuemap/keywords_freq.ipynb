{
 "cells": [
  {
   "cell_type": "code",
   "execution_count": 3,
   "source": [
    "import sqlite3\r\n",
    "import re\r\n",
    "from collections import Counter\r\n",
    "import pandas as pd\r\n",
    "from tqdm import tqdm\r\n",
    "\r\n",
    "\r\n",
    "strDate = '20200801'\r\n",
    "endDate = '20210901'\r\n",
    "\r\n",
    "conn = sqlite3.connect('../kr_scrapping.db')\r\n",
    "c = conn.cursor()\r\n",
    "\r\n",
    "dt_index = pd.date_range(start=strDate, end=endDate, freq='M')\r\n",
    "dt_list = dt_index.strftime(\"%Y%m\").tolist()\r\n",
    "\r\n",
    "for i in dt_list:\r\n",
    "    c.execute(f'DROP TABLE IF EXISTS `keyword_freq_{i}`;')\r\n",
    "    # c.execute(f'''\r\n",
    "    #         CREATE TABLE `keyword_freq_{i}` (\r\n",
    "    #             `id` INTEGER NOT NULL PRIMARY KEY AUTOINCREMENT,\r\n",
    "    #             `keyword` TEXT NOT NULL,\r\n",
    "    #             `num_freq` TEXT NOT NULL\r\n",
    "    #         );\r\n",
    "    # ''')\r\n",
    "    c.execute(f\"SELECT news_words FROM news_words WHERE pub_date LIKE '{i}%'\")\r\n",
    "\r\n",
    "    news_words = c.fetchall()\r\n",
    "#     print(news_words)\r\n",
    "    key_words = []\r\n",
    "    for words in news_words:\r\n",
    "        words = re.sub(\"[-=+#/\\?:^$.@*\\\"※~&%ㆍ!』\\\\‘|\\(\\)\\[\\]\\<\\>`\\'…》]\",\"\", str(words))\r\n",
    "        words = list(set(words.split(', ')))\r\n",
    "#         print(words)\r\n",
    "        for word in words:\r\n",
    "            word = word.replace(',','')\r\n",
    "            word = word.strip()\r\n",
    "            key_words.append(word)\r\n",
    "    print(key_words)\r\n",
    "    stopwords = ['지난', '이번', '통해', '위해', '이번', '대한', '상황', '진행', '대해',\\\r\n",
    "                 '이후', '최근', '지역', '관련', '시간', '라며', '현재', '예정', '모두', \\\r\n",
    "                 '이상', '한편', '때문', '경우', '공개', '가운데', '모습', '가장', '자신', \\\r\n",
    "                 '기준', '앞서', '우리', '대비', '기간', '사실', '모든', '또한', '역시', '포함',\\\r\n",
    "                 '동안', '일부', '진자', '상태', '정도', '당시', '역시', '억원', '만큼', '마련',\\\r\n",
    "                 '더욱', '면서', '비롯', '다만', '가지', '중인', '만원', '개월', '각각', '사이',\\\r\n",
    "                 '여러', '먼저', '두기', '여기', '매우', '대부분', '달라', '동시', '보이', '바로',\\\r\n",
    "                 '거나', '그동안', '누구', '반면', '인근', '각종', '로부터', '통한', '제대로',\\\r\n",
    "                 '대신', '달리', '별로', '수가', '조금', '서로', '대규모', '가량', '서도', '분기',\\\r\n",
    "                 '순간', '세대', '상대로', '여러분', '이기', '그대로', '다수', '마치', '해도',\\\r\n",
    "                 '라면', '오히려', '전일', '별도', '곳곳', '대해', '에서', '이고', '라고', '다고', '라기',\\\r\n",
    "                 '라며', '면서', '라면서', '로써', '로서', '으로', '에서', '어야', '부터', '한다', '이다', '였다', '였었다']\r\n",
    "\r\n",
    "\r\n",
    "    prep_words = [w1 for w1 in key_words if not w1 in stopwords]\r\n",
    "            \r\n",
    "    count_keywords = Counter(prep_words)\r\n",
    "#     print(count_keywords)\r\n",
    "    for key, val in count_keywords.items():\r\n",
    "        print(key,val)\r\n",
    "        # c.execute(f\"INSERT INTO `keyword_freq_{i}` (keyword, num_freq) VALUES(?,?)\", (key, val))\r\n",
    "\r\n",
    "    conn.commit()\r\n",
    "conn.close()"
   ],
   "outputs": [
    {
     "output_type": "error",
     "ename": "KeyboardInterrupt",
     "evalue": "",
     "traceback": [
      "\u001b[1;31m---------------------------------------------------------------------------\u001b[0m",
      "\u001b[1;31mKeyboardInterrupt\u001b[0m                         Traceback (most recent call last)",
      "\u001b[1;32m<ipython-input-3-613d8fe0f720>\u001b[0m in \u001b[0;36m<module>\u001b[1;34m\u001b[0m\n\u001b[0;32m     30\u001b[0m     \u001b[0mkey_words\u001b[0m \u001b[1;33m=\u001b[0m \u001b[1;33m[\u001b[0m\u001b[1;33m]\u001b[0m\u001b[1;33m\u001b[0m\u001b[0m\n\u001b[0;32m     31\u001b[0m     \u001b[1;32mfor\u001b[0m \u001b[0mwords\u001b[0m \u001b[1;32min\u001b[0m \u001b[0mnews_words\u001b[0m\u001b[1;33m:\u001b[0m\u001b[1;33m\u001b[0m\u001b[0m\n\u001b[1;32m---> 32\u001b[1;33m         \u001b[0mwords\u001b[0m \u001b[1;33m=\u001b[0m \u001b[0mre\u001b[0m\u001b[1;33m.\u001b[0m\u001b[0msub\u001b[0m\u001b[1;33m(\u001b[0m\u001b[1;34m\"[-=+#/\\?:^$.@*\\\"※~&%ㆍ!』\\\\‘|\\(\\)\\[\\]\\<\\>`\\'…》]\"\u001b[0m\u001b[1;33m,\u001b[0m\u001b[1;34m\"\"\u001b[0m\u001b[1;33m,\u001b[0m \u001b[0mstr\u001b[0m\u001b[1;33m(\u001b[0m\u001b[0mwords\u001b[0m\u001b[1;33m)\u001b[0m\u001b[1;33m)\u001b[0m\u001b[1;33m\u001b[0m\u001b[0m\n\u001b[0m\u001b[0;32m     33\u001b[0m         \u001b[0mwords\u001b[0m \u001b[1;33m=\u001b[0m \u001b[0mlist\u001b[0m\u001b[1;33m(\u001b[0m\u001b[0mset\u001b[0m\u001b[1;33m(\u001b[0m\u001b[0mwords\u001b[0m\u001b[1;33m.\u001b[0m\u001b[0msplit\u001b[0m\u001b[1;33m(\u001b[0m\u001b[1;34m', '\u001b[0m\u001b[1;33m)\u001b[0m\u001b[1;33m)\u001b[0m\u001b[1;33m)\u001b[0m\u001b[1;33m\u001b[0m\u001b[0m\n\u001b[0;32m     34\u001b[0m \u001b[1;31m#         print(words)\u001b[0m\u001b[1;33m\u001b[0m\u001b[1;33m\u001b[0m\u001b[0m\n",
      "\u001b[1;31mKeyboardInterrupt\u001b[0m: "
     ]
    }
   ],
   "metadata": {}
  },
  {
   "cell_type": "code",
   "execution_count": 3,
   "source": [
    "import sqlite3\r\n",
    "import re\r\n",
    "from collections import Counter\r\n",
    "import pandas as pd\r\n",
    "from tqdm import tqdm\r\n",
    "\r\n",
    "strDate = '20200801'\r\n",
    "endDate = '20210901'\r\n",
    "\r\n",
    "conn = sqlite3.connect('../kr_scrapping.db')\r\n",
    "\r\n",
    "c = conn.cursor()\r\n",
    "\r\n",
    "dt_index = pd.date_range(start=strDate, end=endDate, freq='M')\r\n",
    "dt_list = dt_index.strftime(\"%Y%m\").tolist()\r\n",
    "\r\n",
    "for i in dt_list:\r\n",
    "    print(i,'월')\r\n",
    "    c.execute(f'DROP TABLE IF EXISTS `keyword_freq_{i}`;')\r\n",
    "    c.execute(f'''\r\n",
    "            CREATE TABLE `keyword_freq_{i}` (\r\n",
    "                `id` INTEGER NOT NULL PRIMARY KEY AUTOINCREMENT,\r\n",
    "                `keyword` TEXT NOT NULL,\r\n",
    "                `num_freq` TEXT NOT NULL\r\n",
    "            );\r\n",
    "    ''')\r\n",
    "    c.execute(f'''\r\n",
    "            SELECT             \r\n",
    "               news_words\r\n",
    "            FROM news_words\r\n",
    "            WHERE pub_date\r\n",
    "            LIKE '{i}%'\r\n",
    "            ''')\r\n",
    "    news_words = c.fetchall()\r\n",
    "    # print(i, len(news_words))\r\n",
    "    key_words = []\r\n",
    "    for words in tqdm(news_words):\r\n",
    "        words = re.sub(\"[-=+#/\\?:^$.@*\\\"※~&%ㆍ!』\\\\‘|\\(\\)\\[\\]\\<\\>`\\'…》]\",\"\", str(words))\r\n",
    "        words = list(set(words.split(', ')))\r\n",
    "        # print(words)\r\n",
    "        for word in words:\r\n",
    "            word = word.replace(',','')\r\n",
    "            word = word.strip()\r\n",
    "            key_words.append(word)\r\n",
    "#     print(key_words)\r\n",
    "    stopwords = ['지난', '이번', '통해', '위해', '이번', '대한', '상황', '진행', '대해',\\\r\n",
    "                 '이후', '최근', '지역', '관련', '시간', '라며', '현재', '예정', '모두', \\\r\n",
    "                 '이상', '한편', '때문', '경우', '공개', '가운데', '모습', '가장', '자신', \\\r\n",
    "                 '기준', '앞서', '우리', '대비', '기간', '사실', '모든', '또한', '역시', '포함',\\\r\n",
    "                 '동안', '일부', '진자', '상태', '정도', '당시', '역시', '억원', '만큼', '마련',\\\r\n",
    "                 '더욱', '면서', '비롯', '다만', '가지', '중인', '만원', '개월', '각각', '사이',\\\r\n",
    "                 '여러', '먼저', '두기', '여기', '매우', '대부분', '달라', '동시', '보이', '바로',\\\r\n",
    "                 '거나', '그동안', '누구', '반면', '인근', '각종', '로부터', '통한', '제대로',\\\r\n",
    "                 '대신', '달리', '별로', '수가', '조금', '서로', '대규모', '가량', '서도', '분기',\\\r\n",
    "                 '순간', '세대', '상대로', '여러분', '이기', '그대로', '다수', '마치', '해도',\\\r\n",
    "                 '라면', '오히려', '전일', '별도', '곳곳', '대해', '에서', '이고', '라고', '다고', '라기',\\\r\n",
    "                 '라며', '면서', '라면서', '로써', '로서', '으로', '에서', '어야', '부터', '한다', '이다', '였다', '였었다']\r\n",
    "\r\n",
    "\r\n",
    "    prep_words = [w1 for w1 in key_words if not w1 in stopwords]\r\n",
    "            \r\n",
    "    count_keywords = Counter(prep_words)\r\n",
    "#     print(count_keywords)\r\n",
    "    for key, val in count_keywords.items():\r\n",
    "        # print(key,val)\r\n",
    "        c.execute(f\"INSERT INTO `keyword_freq_{i}` (keyword, num_freq) VALUES(?,?)\", (key, val))\r\n",
    "\r\n",
    "    conn.commit()\r\n",
    "conn.close()\r\n"
   ],
   "outputs": [
    {
     "output_type": "stream",
     "name": "stdout",
     "text": [
      "202008 월\n"
     ]
    },
    {
     "output_type": "stream",
     "name": "stderr",
     "text": [
      "100%|██████████| 532374/532374 [00:41<00:00, 12851.34it/s]\n"
     ]
    },
    {
     "output_type": "stream",
     "name": "stdout",
     "text": [
      "202009 월\n"
     ]
    },
    {
     "output_type": "stream",
     "name": "stderr",
     "text": [
      "100%|██████████| 533562/533562 [00:42<00:00, 12631.00it/s]\n"
     ]
    },
    {
     "output_type": "stream",
     "name": "stdout",
     "text": [
      "202010 월\n"
     ]
    },
    {
     "output_type": "stream",
     "name": "stderr",
     "text": [
      "100%|██████████| 520046/520046 [00:40<00:00, 12822.82it/s]\n"
     ]
    },
    {
     "output_type": "stream",
     "name": "stdout",
     "text": [
      "202011 월\n"
     ]
    },
    {
     "output_type": "stream",
     "name": "stderr",
     "text": [
      "100%|██████████| 536310/536310 [00:42<00:00, 12621.38it/s]\n"
     ]
    },
    {
     "output_type": "stream",
     "name": "stdout",
     "text": [
      "202012 월\n"
     ]
    },
    {
     "output_type": "stream",
     "name": "stderr",
     "text": [
      "100%|██████████| 550331/550331 [00:44<00:00, 12475.81it/s]\n"
     ]
    },
    {
     "output_type": "stream",
     "name": "stdout",
     "text": [
      "202101 월\n"
     ]
    },
    {
     "output_type": "stream",
     "name": "stderr",
     "text": [
      "100%|██████████| 521638/521638 [00:41<00:00, 12426.16it/s]\n"
     ]
    },
    {
     "output_type": "stream",
     "name": "stdout",
     "text": [
      "202102 월\n"
     ]
    },
    {
     "output_type": "stream",
     "name": "stderr",
     "text": [
      "100%|██████████| 467534/467534 [00:37<00:00, 12574.94it/s]\n"
     ]
    },
    {
     "output_type": "stream",
     "name": "stdout",
     "text": [
      "202103 월\n"
     ]
    },
    {
     "output_type": "stream",
     "name": "stderr",
     "text": [
      "100%|██████████| 556283/556283 [00:43<00:00, 12698.90it/s]\n"
     ]
    },
    {
     "output_type": "stream",
     "name": "stdout",
     "text": [
      "202104 월\n"
     ]
    },
    {
     "output_type": "stream",
     "name": "stderr",
     "text": [
      "100%|██████████| 542047/542047 [00:43<00:00, 12604.60it/s]\n"
     ]
    },
    {
     "output_type": "stream",
     "name": "stdout",
     "text": [
      "202105 월\n"
     ]
    },
    {
     "output_type": "stream",
     "name": "stderr",
     "text": [
      "100%|██████████| 502998/502998 [00:39<00:00, 12580.51it/s]\n"
     ]
    },
    {
     "output_type": "stream",
     "name": "stdout",
     "text": [
      "202106 월\n"
     ]
    },
    {
     "output_type": "stream",
     "name": "stderr",
     "text": [
      "100%|██████████| 527741/527741 [00:41<00:00, 12597.37it/s]\n"
     ]
    },
    {
     "output_type": "stream",
     "name": "stdout",
     "text": [
      "202107 월\n"
     ]
    },
    {
     "output_type": "stream",
     "name": "stderr",
     "text": [
      "100%|██████████| 526049/526049 [00:42<00:00, 12400.26it/s]\n"
     ]
    },
    {
     "output_type": "stream",
     "name": "stdout",
     "text": [
      "202108 월\n"
     ]
    },
    {
     "output_type": "stream",
     "name": "stderr",
     "text": [
      "100%|██████████| 486483/486483 [00:39<00:00, 12333.40it/s]\n"
     ]
    }
   ],
   "metadata": {}
  },
  {
   "cell_type": "code",
   "execution_count": 5,
   "source": [
    "import pandas as pd\r\n",
    "\r\n",
    "conn = sqlite3.connect('../kr_scrapping.db')\r\n",
    "c = conn.cursor()\r\n",
    "c.execute('''\r\n",
    "        SELECT \r\n",
    "            k2008.keyword,\r\n",
    "            k2008.num_freq,\r\n",
    "            k2009.num_freq,\r\n",
    "            k2010.num_freq,\r\n",
    "            k2011.num_freq,\r\n",
    "            k2012.num_freq,\r\n",
    "            k2101.num_freq,\r\n",
    "            k2102.num_freq,\r\n",
    "            k2103.num_freq,\r\n",
    "            k2104.num_freq,\r\n",
    "            k2105.num_freq,\r\n",
    "            k2106.num_freq,\r\n",
    "            k2107.num_freq,\r\n",
    "            k2108.num_freq    \r\n",
    "        FROM keyword_freq_202008 k2008\r\n",
    "        LEFT OUTER JOIN keyword_freq_202009 k2009\r\n",
    "        ON k2008.keyword = k2009.keyword\r\n",
    "        LEFT OUTER JOIN keyword_freq_202010 k2010\r\n",
    "        ON k2008.keyword = k2010.keyword\r\n",
    "        LEFT OUTER JOIN keyword_freq_202011 k2011\r\n",
    "        ON k2008.keyword = k2011.keyword\r\n",
    "        LEFT OUTER JOIN keyword_freq_202012 k2012\r\n",
    "        ON k2008.keyword = k2012.keyword\r\n",
    "        LEFT OUTER JOIN keyword_freq_202101 k2101\r\n",
    "        ON k2008.keyword = k2101.keyword\r\n",
    "        LEFT OUTER JOIN keyword_freq_202102 k2102\r\n",
    "        ON k2008.keyword = k2102.keyword\r\n",
    "        LEFT OUTER JOIN keyword_freq_202103 k2103\r\n",
    "        ON k2008.keyword = k2103.keyword\r\n",
    "        LEFT OUTER JOIN keyword_freq_202104 k2104\r\n",
    "        ON k2008.keyword = k2104.keyword\r\n",
    "        LEFT OUTER JOIN keyword_freq_202105 k2105\r\n",
    "        ON k2008.keyword = k2105.keyword\r\n",
    "        LEFT OUTER JOIN keyword_freq_202106 k2106\r\n",
    "        ON k2008.keyword = k2106.keyword\r\n",
    "        LEFT OUTER JOIN keyword_freq_202107 k2107\r\n",
    "        ON k2008.keyword = k2107.keyword\r\n",
    "        LEFT OUTER JOIN keyword_freq_202108 k2108\r\n",
    "        ON k2008.keyword = k2108.keyword\r\n",
    "        ''')\r\n",
    "a = c.fetchall()\r\n",
    "df = pd.DataFrame(a, columns = ['keyword', '20년08월', '20년09월', '20년10월','20년11월','20년12월','21년01월','21년02월', '21년03월','21년04월','21년05월','21년06월', '21년07월', '21년08월'])\r\n",
    "conn.close()\r\n",
    "print(df)\r\n",
    "df = df.astype({'20년08월':'int'})\r\n",
    "df.sort_values('20년08월',ascending=False, inplace=True)\r\n",
    "df.to_csv('examples.csv', encoding='utf-8-sig')"
   ],
   "outputs": [
    {
     "output_type": "stream",
     "name": "stdout",
     "text": [
      "       keyword 20년08월 20년09월 20년10월 20년11월 20년12월 21년01월 21년02월 21년03월 21년04월  \\\n",
      "0           평창    753   1280    964    966   1102   1112    704   1157    926   \n",
      "1           펌프   1213    921    597    593    732    481    734    813    610   \n",
      "2           감시   4003   5430   5065   6246   5975   5752   5373   6109   5113   \n",
      "3           보고  44004  46038  48025  43339  44405  44680  43161  48870  44429   \n",
      "4          급경사    539    246     76    118    132    238    272    131    101   \n",
      "...        ...    ...    ...    ...    ...    ...    ...    ...    ...    ...   \n",
      "144527     델라라      1   None      5   None   None      2      1   None      5   \n",
      "144528      메꼬      1   None      1      2      1      1      2      1      1   \n",
      "144529     직소싱      1   None     13      9     21   None      1      8   None   \n",
      "144530      절스      1   None   None      1   None   None      1      1      2   \n",
      "144531    안드렐턴      1      1      1      4      4      2      1   None      1   \n",
      "\n",
      "       21년05월 21년06월 21년07월 21년08월  \n",
      "0         843   1058   1328    904  \n",
      "1         582    764    920    637  \n",
      "2        4355   4707   4019   4514  \n",
      "3       42305  46275  43474  41852  \n",
      "4         118    177    189    235  \n",
      "...       ...    ...    ...    ...  \n",
      "144527      4   None   None   None  \n",
      "144528   None      9      6      3  \n",
      "144529   None     24      6      2  \n",
      "144530      1      3      3      3  \n",
      "144531      1   None   None   None  \n",
      "\n",
      "[144532 rows x 14 columns]\n"
     ]
    }
   ],
   "metadata": {}
  },
  {
   "cell_type": "code",
   "execution_count": 71,
   "source": [
    "import pandas as pd\r\n",
    "import sqlite3\r\n",
    "import numpy as np\r\n",
    "\r\n",
    "freqMonth = 202009\r\n",
    "\r\n",
    "conn = sqlite3.connect('../kr_scrapping.db')\r\n",
    "c = conn.cursor()\r\n",
    "c.execute(f'''\r\n",
    "        SELECT \r\n",
    "            k{freqMonth}.keyword,\r\n",
    "            k{freqMonth-1}.num_freq,\r\n",
    "            k{freqMonth}.num_freq\r\n",
    "        FROM keyword_freq_{freqMonth} k{freqMonth}\r\n",
    "        LEFT OUTER JOIN keyword_freq_{freqMonth-1} k{freqMonth-1}\r\n",
    "        ON k{freqMonth-1}.keyword = k{freqMonth}.keyword\r\n",
    "        ''')\r\n",
    "numKeywords = c.fetchall()\r\n",
    "issueMap_result = []\r\n",
    "\r\n",
    "for i in numKeywords:\r\n",
    "    if i[1] == None \r\n",
    "    key_word = i[0]\r\n",
    "    last_num = i[1]\r\n",
    "    now_num = i[2]\r\n",
    "    issueMap_result.append({'x':now_num,'y' : round(((int(now_num) - int(last_num)) / int(last_num)) * 100, 2),  'name' : key_word, 'country': key_word})\r\n",
    "# print(issueMap_result)\r\n",
    "\r\n",
    "# df = pd.DataFrame(a, columns = ['keyword', '20.08. 뉴스량', '20.09. 뉴스량'])\r\n",
    "conn.close()\r\n",
    "# df[['20.08. 뉴스량', '20.09. 뉴스량']] = df[['20.08. 뉴스량', '20.09. 뉴스량']].fillna(0)\r\n",
    "# df[['20.08. 뉴스량', '20.09. 뉴스량']] = df[['20.08. 뉴스량', '20.09. 뉴스량']].astype(int)\r\n",
    "# # # 증가액 / 전월 뉴스량 * 100\r\n",
    "# df['9월 뉴스량 증가율'] = round(((df['20.09. 뉴스량'] - df['20.08. 뉴스량']) / df['20.08. 뉴스량']) * 100 , 2)\r\n",
    "# df = df.replace([np.inf, -np.inf], np.nan)\r\n",
    "# # conn.close()\r\n",
    "# df.sort_values(by='9월 뉴스량 증가율', ascending=False)\r\n",
    "\r\n",
    "issueMap_result\r\n"
   ],
   "outputs": [
    {
     "output_type": "error",
     "ename": "TypeError",
     "evalue": "int() argument must be a string, a bytes-like object or a number, not 'NoneType'",
     "traceback": [
      "\u001b[1;31m---------------------------------------------------------------------------\u001b[0m",
      "\u001b[1;31mTypeError\u001b[0m                                 Traceback (most recent call last)",
      "\u001b[1;32m<ipython-input-71-eb7c83e77141>\u001b[0m in \u001b[0;36m<module>\u001b[1;34m\u001b[0m\n\u001b[0;32m     23\u001b[0m     \u001b[0mlast_num\u001b[0m \u001b[1;33m=\u001b[0m \u001b[0mi\u001b[0m\u001b[1;33m[\u001b[0m\u001b[1;36m1\u001b[0m\u001b[1;33m]\u001b[0m\u001b[1;33m\u001b[0m\u001b[0m\n\u001b[0;32m     24\u001b[0m     \u001b[0mnow_num\u001b[0m \u001b[1;33m=\u001b[0m \u001b[0mi\u001b[0m\u001b[1;33m[\u001b[0m\u001b[1;36m2\u001b[0m\u001b[1;33m]\u001b[0m\u001b[1;33m\u001b[0m\u001b[0m\n\u001b[1;32m---> 25\u001b[1;33m     \u001b[0missueMap_result\u001b[0m\u001b[1;33m.\u001b[0m\u001b[0mappend\u001b[0m\u001b[1;33m(\u001b[0m\u001b[1;33m{\u001b[0m\u001b[1;34m'x'\u001b[0m\u001b[1;33m:\u001b[0m\u001b[0mnow_num\u001b[0m\u001b[1;33m,\u001b[0m\u001b[1;34m'y'\u001b[0m \u001b[1;33m:\u001b[0m \u001b[0mround\u001b[0m\u001b[1;33m(\u001b[0m\u001b[1;33m(\u001b[0m\u001b[1;33m(\u001b[0m\u001b[0mint\u001b[0m\u001b[1;33m(\u001b[0m\u001b[0mnow_num\u001b[0m\u001b[1;33m)\u001b[0m \u001b[1;33m-\u001b[0m \u001b[0mint\u001b[0m\u001b[1;33m(\u001b[0m\u001b[0mlast_num\u001b[0m\u001b[1;33m)\u001b[0m\u001b[1;33m)\u001b[0m \u001b[1;33m/\u001b[0m \u001b[0mint\u001b[0m\u001b[1;33m(\u001b[0m\u001b[0mlast_num\u001b[0m\u001b[1;33m)\u001b[0m\u001b[1;33m)\u001b[0m \u001b[1;33m*\u001b[0m \u001b[1;36m100\u001b[0m\u001b[1;33m,\u001b[0m \u001b[1;36m2\u001b[0m\u001b[1;33m)\u001b[0m\u001b[1;33m,\u001b[0m  \u001b[1;34m'name'\u001b[0m \u001b[1;33m:\u001b[0m \u001b[0mkey_word\u001b[0m\u001b[1;33m,\u001b[0m \u001b[1;34m'country'\u001b[0m\u001b[1;33m:\u001b[0m \u001b[0mkey_word\u001b[0m\u001b[1;33m}\u001b[0m\u001b[1;33m)\u001b[0m\u001b[1;33m\u001b[0m\u001b[0m\n\u001b[0m\u001b[0;32m     26\u001b[0m \u001b[1;31m# print(issueMap_result)\u001b[0m\u001b[1;33m\u001b[0m\u001b[1;33m\u001b[0m\u001b[0m\n\u001b[0;32m     27\u001b[0m \u001b[1;33m\u001b[0m\u001b[0m\n",
      "\u001b[1;31mTypeError\u001b[0m: int() argument must be a string, a bytes-like object or a number, not 'NoneType'"
     ]
    }
   ],
   "metadata": {}
  }
 ],
 "metadata": {
  "orig_nbformat": 4,
  "language_info": {
   "name": "python",
   "version": "3.6.4",
   "mimetype": "text/x-python",
   "codemirror_mode": {
    "name": "ipython",
    "version": 3
   },
   "pygments_lexer": "ipython3",
   "nbconvert_exporter": "python",
   "file_extension": ".py"
  },
  "kernelspec": {
   "name": "python3",
   "display_name": "Python 3.6.4 64-bit"
  },
  "interpreter": {
   "hash": "68435f9a382c9677d2dcae99d2d139da3415a3d063b38295be49e8c3f2ac11d7"
  }
 },
 "nbformat": 4,
 "nbformat_minor": 2
}
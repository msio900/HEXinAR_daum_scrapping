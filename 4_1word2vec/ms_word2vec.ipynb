{
 "cells": [
  {
   "cell_type": "code",
   "execution_count": 16,
   "source": [
    "import pandas as pd\r\n",
    "\r\n",
    "dt_index = pd.date_range(end='20210831', periods=30, freq='D')\r\n",
    "dt_list = dt_index.strftime(\"%Y%m%d\").tolist()\r\n",
    "\r\n",
    "\r\n",
    "for i in dt_list:\r\n",
    "    print(i)\r\n"
   ],
   "outputs": [
    {
     "output_type": "stream",
     "name": "stdout",
     "text": [
      "20210802\n",
      "20210803\n",
      "20210804\n",
      "20210805\n",
      "20210806\n",
      "20210807\n",
      "20210808\n",
      "20210809\n",
      "20210810\n",
      "20210811\n",
      "20210812\n",
      "20210813\n",
      "20210814\n",
      "20210815\n",
      "20210816\n",
      "20210817\n",
      "20210818\n",
      "20210819\n",
      "20210820\n",
      "20210821\n",
      "20210822\n",
      "20210823\n",
      "20210824\n",
      "20210825\n",
      "20210826\n",
      "20210827\n",
      "20210828\n",
      "20210829\n",
      "20210830\n",
      "20210831\n"
     ]
    }
   ],
   "metadata": {}
  },
  {
   "cell_type": "code",
   "execution_count": 17,
   "source": [
    "import sqlite3\r\n",
    "import re\r\n",
    "from collections import Counter\r\n",
    "from datetime import date\r\n",
    "import pandas as pd\r\n",
    "from gensim.models import Word2Vec\r\n",
    "import pickle\r\n",
    "\r\n",
    "dt_index = pd.date_range(end='20200831', periods=7, freq='D')\r\n",
    "dt_list = dt_index.strftime(\"%Y%m%d\").tolist()\r\n",
    "\r\n",
    "conn = sqlite3.connect('../kr_scrapping.db')\r\n",
    "c = conn.cursor()\r\n",
    "\r\n",
    "li_result = []\r\n",
    "for i in dt_list:\r\n",
    "    c.execute(f\"SELECT news_words FROM news_words WHERE pub_date LIKE '{i}'\")\r\n",
    "    result = c.fetchall()\r\n",
    "    \r\n",
    "    for words in result:\r\n",
    "        words = re.sub(\"[-=+#/\\?:^$.@*\\\"※~&%ㆍ!』\\\\‘|\\(\\)\\[\\]\\<\\>`\\'…》]\",\"\", str(words))\r\n",
    "        words = words.split(', ')\r\n",
    "        li_result.append(words)\r\n",
    "\r\n",
    "model = Word2Vec(sentences=li_result, vector_size=100, window=5, min_count=5, workers=4, sg=0)\r\n",
    "\r\n",
    "save_data = model\r\n",
    "with open(\"sim_word.pkl\", \"wb\") as w:\r\n",
    "    pickle.dump(save_data, w)\r\n",
    "\r\n",
    "conn.close()"
   ],
   "outputs": [],
   "metadata": {}
  },
  {
   "cell_type": "code",
   "execution_count": 21,
   "source": [
    "import\r\n",
    "\r\n",
    "with open(\"sim_word.pkl\", \"rb\") as r:\r\n",
    "    read_data=pickle.load(r)\r\n",
    "\r\n",
    "key_word = \"경제\"\r\n",
    "\r\n",
    "w2v_model_result = read_data.wv.most_similar(key_word, topn=30)\r\n",
    "print(w2v_model_result)"
   ],
   "outputs": [
    {
     "output_type": "stream",
     "name": "stdout",
     "text": [
      "[('경제성장', 0.6501211524009705), ('양극화', 0.5646595358848572), ('민생', 0.5030245184898376), ('성장', 0.49834954738616943), ('중소기업', 0.4897858202457428), ('일자리', 0.4863070845603943), ('거시경제', 0.48572224378585815), ('잠재', 0.48101577162742615), ('기업', 0.4713307023048401), ('불평등', 0.46988099813461304), ('공유경제', 0.4642425775527954), ('금융시장', 0.4610883891582489), ('노동시장', 0.4607715904712677), ('산업', 0.45885154604911804), ('국민소득', 0.45562267303466797), ('모멘텀', 0.44855889678001404), ('파급', 0.4476225972175598), ('소비', 0.447601318359375), ('대외', 0.4475818872451782), ('고령화', 0.44714653491973877), ('위축', 0.44656771421432495), ('불확실', 0.44600868225097656), ('양적', 0.44278839230537415), ('재정정책', 0.4417521059513092), ('국내총생산', 0.4408395290374756), ('저출산', 0.4406868815422058), ('상공', 0.4395087957382202), ('심화', 0.438921719789505), ('통화정책', 0.43872007727622986), ('포용', 0.43816089630126953)]\n"
     ]
    }
   ],
   "metadata": {}
  },
  {
   "cell_type": "code",
   "execution_count": 18,
   "source": [
    "key_word = \"경제\"\r\n",
    "\r\n",
    "w2v_model_result = model.wv.most_similar(key_word, topn=30)\r\n",
    "print(w2v_model_result)"
   ],
   "outputs": [
    {
     "output_type": "stream",
     "name": "stdout",
     "text": [
      "[('경제성장', 0.6501211524009705), ('양극화', 0.5646595358848572), ('민생', 0.5030245184898376), ('성장', 0.49834954738616943), ('중소기업', 0.4897858202457428), ('일자리', 0.4863070845603943), ('거시경제', 0.48572224378585815), ('잠재', 0.48101577162742615), ('기업', 0.4713307023048401), ('불평등', 0.46988099813461304), ('공유경제', 0.4642425775527954), ('금융시장', 0.4610883891582489), ('노동시장', 0.4607715904712677), ('산업', 0.45885154604911804), ('국민소득', 0.45562267303466797), ('모멘텀', 0.44855889678001404), ('파급', 0.4476225972175598), ('소비', 0.447601318359375), ('대외', 0.4475818872451782), ('고령화', 0.44714653491973877), ('위축', 0.44656771421432495), ('불확실', 0.44600868225097656), ('양적', 0.44278839230537415), ('재정정책', 0.4417521059513092), ('국내총생산', 0.4408395290374756), ('저출산', 0.4406868815422058), ('상공', 0.4395087957382202), ('심화', 0.438921719789505), ('통화정책', 0.43872007727622986), ('포용', 0.43816089630126953)]\n"
     ]
    }
   ],
   "metadata": {}
  },
  {
   "cell_type": "code",
   "execution_count": 19,
   "source": [
    "key_word = \"문화\"\r\n",
    "\r\n",
    "w2v_model_result = model.wv.most_similar(key_word, topn=30)\r\n",
    "print(w2v_model_result)"
   ],
   "outputs": [
    {
     "output_type": "stream",
     "name": "stdout",
     "text": [
      "[('여가', 0.5651906132698059), ('예술', 0.5502335429191589), ('다양성', 0.5198015570640564), ('국제화', 0.5061387419700623), ('관광', 0.4931338429450989), ('공연예술', 0.4798352122306824), ('환경', 0.47587233781814575), ('교류', 0.47583499550819397), ('도농', 0.4694952666759491), ('직문', 0.4691601097583771), ('비문', 0.4687769412994385), ('예술인', 0.4680013358592987), ('인문학', 0.4674966633319855), ('템플스테이', 0.4669535458087921), ('레크리에이션', 0.45849937200546265), ('창의', 0.4573361575603485), ('교육', 0.4538508951663971), ('독서', 0.4472515285015106), ('저변', 0.443014919757843), ('문화인', 0.4395521879196167), ('전통문화', 0.43693095445632935), ('대중문화', 0.4356459379196167), ('문화유산', 0.43319907784461975), ('전통', 0.4325432777404785), ('창작', 0.43173637986183167), ('광부', 0.43008509278297424), ('비대', 0.42896878719329834), ('한류', 0.42877480387687683), ('콘텐츠', 0.42656075954437256), ('소통', 0.4263668656349182)]\n"
     ]
    }
   ],
   "metadata": {}
  },
  {
   "cell_type": "markdown",
   "source": [
    "model_keyedvec_result = model_keyedvec.most_similar(key_word, topn=100)\r\n",
    "\r\n",
    "print(model_keyedvec)"
   ],
   "metadata": {}
  }
 ],
 "metadata": {
  "orig_nbformat": 4,
  "language_info": {
   "name": "python",
   "version": "3.6.4",
   "mimetype": "text/x-python",
   "codemirror_mode": {
    "name": "ipython",
    "version": 3
   },
   "pygments_lexer": "ipython3",
   "nbconvert_exporter": "python",
   "file_extension": ".py"
  },
  "kernelspec": {
   "name": "python3",
   "display_name": "Python 3.6.4 64-bit"
  },
  "interpreter": {
   "hash": "4c65b98e956c6ae24f8ae0bc56d1e465ff92310dbdec0a4bd6b48ffdf1441c98"
  }
 },
 "nbformat": 4,
 "nbformat_minor": 2
}